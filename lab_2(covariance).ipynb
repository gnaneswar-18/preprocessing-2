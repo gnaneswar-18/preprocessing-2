{
  "nbformat": 4,
  "nbformat_minor": 0,
  "metadata": {
    "colab": {
      "provenance": [],
      "authorship_tag": "ABX9TyMzF4/L6cusb7RSdZBmT70V",
      "include_colab_link": true
    },
    "kernelspec": {
      "name": "python3",
      "display_name": "Python 3"
    },
    "language_info": {
      "name": "python"
    }
  },
  "cells": [
    {
      "cell_type": "markdown",
      "metadata": {
        "id": "view-in-github",
        "colab_type": "text"
      },
      "source": [
        "<a href=\"https://colab.research.google.com/github/gnaneswar-18/preprocessing-2/blob/main/lab_2(covariance).ipynb\" target=\"_parent\"><img src=\"https://colab.research.google.com/assets/colab-badge.svg\" alt=\"Open In Colab\"/></a>"
      ]
    },
    {
      "cell_type": "code",
      "execution_count": null,
      "metadata": {
        "colab": {
          "base_uri": "https://localhost:8080/"
        },
        "id": "ckl-R3z_oE3u",
        "outputId": "5ac320c6-c28f-412c-eeb7-d850e07c1a30"
      },
      "outputs": [
        {
          "output_type": "stream",
          "name": "stdout",
          "text": [
            "Vector 1: [0.01032952 0.56809659 0.56141277 0.62426559 0.87833369 0.98565697\n",
            " 0.71502579 0.2607212  0.32087574 0.9853961 ]\n",
            "Vector 2: [0.45770677 0.6318524  0.25322951 0.31801969 0.38288156 0.9928084\n",
            " 0.17775973 0.31643443 0.68924984 0.54785556]\n"
          ]
        }
      ],
      "source": [
        "import numpy as np\n",
        "n = 10\n",
        "arr_1 = np.random.rand(n)\n",
        "arr_2 = np.random.rand(n)\n",
        "print(\"Vector 1:\", arr_1)\n",
        "print(\"Vector 2:\", arr_2)"
      ]
    },
    {
      "cell_type": "code",
      "source": [
        "covariance_matrix = np.cov(arr_1, arr_2,rowvar=False)\n",
        "print(covariance_matrix)\n",
        "covariance = covariance_matrix[0, 1]\n",
        "\n",
        "print(\"Covariance:\", covariance)"
      ],
      "metadata": {
        "colab": {
          "base_uri": "https://localhost:8080/"
        },
        "id": "pS1Bz6PtogpT",
        "outputId": "11beec87-81bc-4945-b75c-920e5578448d"
      },
      "execution_count": null,
      "outputs": [
        {
          "output_type": "stream",
          "name": "stdout",
          "text": [
            "[[0.10344238 0.01911575]\n",
            " [0.01911575 0.06000135]]\n",
            "Covariance: 0.019115750692927282\n"
          ]
        }
      ]
    },
    {
      "cell_type": "code",
      "source": [
        "mean_1=np.mean(arr_1)\n",
        "mean_2=np.mean(arr_2)\n",
        "\n",
        "dev_1 = [x - mean_1 for x in arr_1]\n",
        "dev_2 = [y - mean_2 for y in arr_2]\n",
        "\n",
        "dev_product = [dev_1[i] * dev_2[i] for i in range(len(arr_1))]\n",
        "sum_of_dev=sum(dev_product)\n",
        "covarince= sum_of_dev / (n-1)\n",
        "print(\"Covariance:\", covariance)"
      ],
      "metadata": {
        "colab": {
          "base_uri": "https://localhost:8080/"
        },
        "id": "vVNCmm9BpIMe",
        "outputId": "8e1d6338-3e3e-4bb1-bace-99df5afc4da9"
      },
      "execution_count": null,
      "outputs": [
        {
          "output_type": "stream",
          "name": "stdout",
          "text": [
            "Covariance: -0.026927088200733737\n"
          ]
        }
      ]
    }
  ]
}